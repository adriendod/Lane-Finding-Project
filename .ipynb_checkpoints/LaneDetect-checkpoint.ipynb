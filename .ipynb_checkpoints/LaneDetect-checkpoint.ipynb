{
 "cells": [
  {
   "cell_type": "code",
   "execution_count": 1,
   "metadata": {},
   "outputs": [],
   "source": [
    "import numpy as np\n",
    "import cv2\n",
    "import matplotlib.pyplot as plt\n",
    "import matplotlib.image as mpimg\n",
    "import glob\n",
    "%matplotlib inline\n",
    "fig_size = (12, 9)\n",
    "plt.rcParams[\"figure.figsize\"] = fig_size"
   ]
  },
  {
   "cell_type": "code",
   "execution_count": 2,
   "metadata": {},
   "outputs": [],
   "source": [
    "plt.rcParams[\"figure.figsize\"] = fig_size"
   ]
  },
  {
   "cell_type": "code",
   "execution_count": null,
   "metadata": {},
   "outputs": [],
   "source": []
  },
  {
   "cell_type": "markdown",
   "metadata": {},
   "source": [
    "## Camera Calibration"
   ]
  },
  {
   "cell_type": "code",
   "execution_count": null,
   "metadata": {},
   "outputs": [
    {
     "data": {
      "text/plain": [
       "<matplotlib.image.AxesImage at 0x7f3cd797f358>"
      ]
     },
     "execution_count": 3,
     "metadata": {},
     "output_type": "execute_result"
    }
   ],
   "source": [
    "images = glob.glob('./camera_cal/calibration*.jpg')\n",
    "img = mpimg.imread('./camera_cal/calibration2.jpg')\n",
    "plt.imshow(img)"
   ]
  },
  {
   "cell_type": "code",
   "execution_count": null,
   "metadata": {
    "scrolled": true
   },
   "outputs": [],
   "source": [
    "# Arrays to store objects points and image points\n",
    "objpoints = []\n",
    "imgpoints = []\n",
    "\n",
    "# Object points\n",
    "objp = np.zeros((6*9,3), np.float32)\n",
    "objp[:,:2] = np.mgrid[0:9,0:6].T.reshape(-1,2)\n",
    "\n",
    "for image in images:\n",
    "    #Import image and convert to grayscale\n",
    "    img = mpimg.imread(image)\n",
    "    gray = cv2.cvtColor(img,cv2.COLOR_BGR2GRAY)\n",
    "\n",
    "    #Detect chessboard corner\n",
    "    ret, corners = cv2.findChessboardCorners(gray, (9,6), None)\n",
    "\n",
    "    #If corners are found add object points, image points\n",
    "    if ret == True:\n",
    "        imgpoints.append(corners)\n",
    "        objpoints.append(objp)\n",
    "        img = cv2.drawChessboardCorners(img, (9,6), corners, ret)\n",
    "        plt.imshow(img)\n"
   ]
  },
  {
   "cell_type": "code",
   "execution_count": null,
   "metadata": {},
   "outputs": [],
   "source": [
    "#Saving calibration data\n",
    "ret, mtx, dist, rvecs, tvecs = cv2.calibrateCamera(objpoints, imgpoints, gray.shape[::-1],None,None)"
   ]
  },
  {
   "cell_type": "code",
   "execution_count": null,
   "metadata": {},
   "outputs": [],
   "source": [
    "print(corners)"
   ]
  },
  {
   "cell_type": "code",
   "execution_count": null,
   "metadata": {},
   "outputs": [],
   "source": [
    "#Undistorting test img (image 1 was not used in calibration because all the corners couldnt be seen in the image)\n",
    "img = mpimg.imread('./camera_cal/calibration1.jpg')\n",
    "dst = cv2.undistort(img, mtx, dist, None, mtx)\n",
    "\n",
    "f, (ax1, ax2) = plt.subplots(1, 2, figsize=(20,10))\n",
    "ax1.set_title('Original Image')\n",
    "ax1.imshow(img)\n",
    "\n",
    "ax2.set_title('Undistorted Image')\n",
    "ax2.imshow(dst)"
   ]
  },
  {
   "cell_type": "markdown",
   "metadata": {},
   "source": [
    "## Detecting lane lines in test image"
   ]
  },
  {
   "cell_type": "code",
   "execution_count": null,
   "metadata": {},
   "outputs": [],
   "source": [
    "# Define a class to receive the characteristics of each line detection\n",
    "class Line():\n",
    "    def __init__(self):\n",
    "        # was the line detected in the last iteration?\n",
    "        self.detected = False  \n",
    "        # x values of the last n fits of the line\n",
    "        self.recent_xfitted = [] \n",
    "        #average x values of the fitted line over the last n iterations\n",
    "        self.bestx = None     \n",
    "        #polynomial coefficients averaged over the last n iterations\n",
    "        self.best_fit = None  \n",
    "        #polynomial coefficients for the most recent fit\n",
    "        self.current_fit = [np.array([False])]  \n",
    "        #radius of curvature of the line in some units\n",
    "        self.radius_of_curvature = None \n",
    "        #distance in meters of vehicle center from the line\n",
    "        self.line_base_pos = None \n",
    "        #difference in fit coefficients between last and new fits\n",
    "        self.diffs = np.array([0,0,0], dtype='float') \n",
    "        #x values for detected line pixels\n",
    "        self.allx = None  \n",
    "        #y values for detected line pixels\n",
    "        self.ally = None  "
   ]
  },
  {
   "cell_type": "code",
   "execution_count": null,
   "metadata": {},
   "outputs": [],
   "source": [
    "img = mpimg.imread('./test_images/test1.jpg')\n",
    "def undistort_image(img, mtx, dist):\n",
    "    #undistorting image\n",
    "    undist = cv2.undistort(img, mtx, dist, None, mtx)\n",
    "    return undist\n",
    "\n",
    "undist = undistort_image(img, mtx, dist)\n",
    "\n",
    "f, (ax1, ax2) = plt.subplots(1, 2, figsize=(20,10))\n",
    "ax1.set_title('Original Image')\n",
    "ax1.imshow(img)\n",
    "\n",
    "ax2.set_title('Undistorted Image')\n",
    "ax2.imshow(undist)"
   ]
  },
  {
   "cell_type": "code",
   "execution_count": null,
   "metadata": {},
   "outputs": [],
   "source": [
    "def convert_image(img):\n",
    "    #Convert to HLS and separate S channel\n",
    "    hls = cv2.cvtColor(img, cv2.COLOR_RGB2HLS)\n",
    "    s_channel = hls[:,:,2]\n",
    "\n",
    "    #Convert also to grayscale in the R channel\n",
    "    gray = img[:,:,0]\n",
    "    \n",
    "    return s_channel, gray\n",
    "\n",
    "s_channel, gray = convert_image(undist)\n",
    "\n",
    "\n",
    "# Plotting 2 images\n",
    "f, (ax1, ax2) = plt.subplots(1, 2, figsize=(20,10))\n",
    "ax1.set_title('S Channel of HLS')\n",
    "ax1.imshow(s_channel, cmap='gray')\n",
    "\n",
    "ax2.set_title('Gray Scale')\n",
    "ax2.imshow(gray, cmap='gray')"
   ]
  },
  {
   "cell_type": "code",
   "execution_count": null,
   "metadata": {},
   "outputs": [],
   "source": [
    "def img_binary(gray, s_channel):\n",
    "    # Sobel x on gray scale\n",
    "    sobelx = cv2.Sobel(gray, cv2.CV_64F, 1, 0) # Take the derivative in x\n",
    "    abs_sobelx = np.absolute(sobelx) # Absolute x derivative to accentuate lines away from horizontal\n",
    "    scaled_sobel = np.uint8(255*abs_sobelx/np.max(abs_sobelx))\n",
    "\n",
    "    # Threshold x gradient on gray scale\n",
    "    thresh_min = 50\n",
    "    thresh_max = 150\n",
    "    sxbinary = np.zeros_like(scaled_sobel)\n",
    "    sxbinary[(scaled_sobel >= thresh_min) & (scaled_sobel <= thresh_max)] = 1\n",
    "\n",
    "    # Threshold S color channel\n",
    "    s_thresh_min = 150\n",
    "    s_thresh_max = 255\n",
    "    s_binary = np.zeros_like(s_channel)\n",
    "    s_binary[(s_channel >= s_thresh_min) & (s_channel <= s_thresh_max)] = 1\n",
    "\n",
    "    # Stack each channel to view their individual contributions in green and blue respectively\n",
    "    # This returns a stack of the two binary images, whose components you can see as different colors\n",
    "    color_binary = np.dstack(( np.zeros_like(sxbinary), sxbinary, s_binary)) * 255\n",
    "\n",
    "    # Combine the two binary thresholds\n",
    "    combined_binary = np.zeros_like(sxbinary)\n",
    "    combined_binary[(s_binary == 1) | (sxbinary == 1)] = 1\n",
    "    \n",
    "    return sxbinary,s_binary, color_binary, combined_binary\n",
    "\n",
    "sxbinary,s_binary, color_binary, combined_binary = img_binary(gray, s_channel)\n",
    "\n",
    "\n",
    "# Plotting thresholded images\n",
    "f, (ax1, ax2) = plt.subplots(1, 2, figsize=(20,10))\n",
    "ax1.set_title('Red channel binary')\n",
    "ax1.imshow(sxbinary)\n",
    "\n",
    "ax2.set_title('S channel binary')\n",
    "ax2.imshow(s_binary, cmap='gray')\n",
    "\n",
    "\n",
    "# Plotting thresholded images\n",
    "f, (ax1, ax2) = plt.subplots(1, 2, figsize=(20,10))\n",
    "ax1.set_title('Stacked thresholds')\n",
    "ax1.imshow(color_binary)\n",
    "\n",
    "ax2.set_title('Combined S channel and gradient thresholds')\n",
    "ax2.imshow(combined_binary, cmap='gray')"
   ]
  },
  {
   "cell_type": "markdown",
   "metadata": {},
   "source": [
    "# Top down view"
   ]
  },
  {
   "cell_type": "code",
   "execution_count": null,
   "metadata": {},
   "outputs": [],
   "source": [
    "def corners_unwarp(img):\n",
    "    img_size = (img.shape[1], img.shape[0])\n",
    "    src = np.float32([[589,457], [700,457], [1016,665], [287,665]])\n",
    "    offset = 100\n",
    "    dst = np.float32([[250,0], [1020,0], [1020,img_size[1]], [250,img_size[1]]])\n",
    "    M = cv2.getPerspectiveTransform(src, dst)\n",
    "    top_down = cv2.warpPerspective(img, M, img_size, flags=cv2.INTER_LINEAR)\n",
    "    return top_down, M, src, dst\n",
    "\n",
    "top_down, M, src, dst = corners_unwarp(combined_binary)\n",
    "f, (ax1, ax2) = plt.subplots(1, 2, figsize=(24, 9))\n",
    "f.tight_layout()\n",
    "ax1.imshow(combined_binary, cmap=\"gray\")\n",
    "ax1.set_title('Original Image', fontsize=50)\n",
    "ax2.imshow(top_down, cmap='gray')\n",
    "ax2.set_title('Undistorted and Warped Image', fontsize=50)\n",
    "plt.subplots_adjust(left=0., right=1, top=0.9, bottom=0.)\n"
   ]
  },
  {
   "cell_type": "markdown",
   "metadata": {},
   "source": [
    "## Detecting start of the lines with an histogram"
   ]
  },
  {
   "cell_type": "code",
   "execution_count": null,
   "metadata": {},
   "outputs": [],
   "source": [
    "hist = np.sum(top_down[(top_down.shape[0]//2):,:], axis = 0)\n",
    "plt.plot(hist)"
   ]
  },
  {
   "cell_type": "markdown",
   "metadata": {},
   "source": [
    "We detect the left line starting around x = 400 and the right line around y = 950. We will then split in 2 the histogram and tahe the max arguments to get the position of the zones to track."
   ]
  },
  {
   "cell_type": "code",
   "execution_count": null,
   "metadata": {},
   "outputs": [],
   "source": [
    "left_lanex = np.argmax(hist[:hist.shape[0]//2])\n",
    "right_lanex = np.argmax(hist[hist.shape[0]//2:]) + hist.shape[0]//2"
   ]
  },
  {
   "cell_type": "code",
   "execution_count": null,
   "metadata": {},
   "outputs": [],
   "source": [
    "print(\"Left Lane starts at x = {}\".format(left_lanex))\n",
    "print(\"Right Lane starts at x = {}\".format(right_lanex))\n"
   ]
  },
  {
   "cell_type": "markdown",
   "metadata": {},
   "source": [
    "Now we will draw boxes around these coordinates"
   ]
  },
  {
   "cell_type": "code",
   "execution_count": null,
   "metadata": {},
   "outputs": [],
   "source": [
    "def detect_lane_lines(binary_img) :\n",
    "    \n",
    "    hist = np.sum(binary_img[(binary_img.shape[0]//2):,:], axis = 0)\n",
    "    left_lanex = np.argmax(hist[:hist.shape[0]//2])\n",
    "    right_lanex = np.argmax(hist[hist.shape[0]//2:]) + hist.shape[0]//2\n",
    "    print(right_lanex)\n",
    "\n",
    "    #create RGB image from binary image to draw on\n",
    "\n",
    "    binary_boxes = np.dstack((top_down, top_down, top_down))*255\n",
    "\n",
    "    windows = 9\n",
    "    window_width = 200\n",
    "    window_heigth = top_down.shape[0] // windows\n",
    "    min_pix = 100\n",
    "\n",
    "    nonzero = binary_img.nonzero()\n",
    "    nonzeroy = np.array(nonzero[0])\n",
    "    nonzerox = np.array(nonzero[1])\n",
    "\n",
    "    # Current positions to be updated later for each window in nwindows\n",
    "    leftx_current = left_lanex\n",
    "    rightx_current = right_lanex\n",
    "    leftx_change = 0\n",
    "    rightx_change = 0\n",
    "\n",
    "    # Create empty lists to receive left and right lane pixel indices\n",
    "    left_lane_inds = []\n",
    "    right_lane_inds = []\n",
    "\n",
    "    for window in range(windows):\n",
    "        #identify the boxes y boundaries\n",
    "        y_low = binary_boxes.shape[0] - window_heigth * (window + 1) \n",
    "        y_high = binary_boxes.shape[0] - window_heigth * window\n",
    "        #identify the boxes x boundaries\n",
    "        right_x_low = rightx_current - (window_width // 2)\n",
    "        right_x_high = rightx_current + (window_width // 2)\n",
    "        left_x_low = leftx_current - (window_width // 2)\n",
    "        left_x_high = leftx_current + (window_width // 2)\n",
    "\n",
    "        \n",
    "\n",
    "        #draw boxes \n",
    "        cv2.rectangle(binary_boxes,(left_x_low,y_low),(left_x_high,y_high),(0,150,255), 2)\n",
    "        cv2.rectangle(binary_boxes,(right_x_low,y_low),(right_x_high,y_high),(0,150,255), 2)\n",
    "\n",
    "        #add pixel indexes in arrays\n",
    "        \n",
    "        left_box_indexes = ((nonzeroy >= y_low) & (nonzeroy < y_high) & (nonzerox >= left_x_low) & (nonzerox < left_x_high)).nonzero()[0]\n",
    "        right_box_indexes = ((nonzeroy >= y_low) & (nonzeroy < y_high) & (nonzerox >= right_x_low) & (nonzerox < right_x_high)).nonzero()[0]\n",
    "\n",
    "        #move the box if it contains more than 50 pixels\n",
    "        #if it doesnt contain enough pixel, move it as much as last time\n",
    "        if len(left_box_indexes) > min_pix :\n",
    "            left_lane_inds.append(left_box_indexes)\n",
    "            left_x_new = int(np.mean(nonzerox[left_box_indexes]))\n",
    "            leftx_change = left_x_new - leftx_current\n",
    "            leftx_current = int(np.mean(nonzerox[left_box_indexes]))\n",
    "        else :\n",
    "            leftx_current += leftx_change\n",
    "            \n",
    "        if len(right_box_indexes) > min_pix :\n",
    "            right_lane_inds.append(right_box_indexes)\n",
    "            right_x_new = int(np.mean(nonzerox[right_box_indexes]))\n",
    "            rightx_change = right_x_new - rightx_current\n",
    "            rightx_current = int(np.mean(nonzerox[right_box_indexes]))\n",
    "        else:\n",
    "            rightx_current += rightx_change\n",
    "\n",
    "    if left_lane_inds != []:\n",
    "        left_lane_inds = np.concatenate(left_lane_inds)\n",
    "    if right_lane_inds != []:\n",
    "        right_lane_inds = np.concatenate(right_lane_inds)\n",
    "\n",
    "\n",
    "    #extract pixel positions\n",
    "    leftx = nonzerox[left_lane_inds]\n",
    "    lefty = nonzeroy[left_lane_inds] \n",
    "    rightx = nonzerox[right_lane_inds]\n",
    "    righty = nonzeroy[right_lane_inds]\n",
    "    \n",
    "    return leftx, lefty, rightx, righty, binary_boxes\n",
    "\n",
    "leftx, lefty, rightx, righty, binary_boxes= detect_lane_lines(top_down)"
   ]
  },
  {
   "cell_type": "code",
   "execution_count": null,
   "metadata": {},
   "outputs": [],
   "source": [
    "plt.imshow(binary_boxes)"
   ]
  },
  {
   "cell_type": "markdown",
   "metadata": {},
   "source": [
    "Fit 2 polynomials with the extracted pixel coordinates"
   ]
  },
  {
   "cell_type": "code",
   "execution_count": null,
   "metadata": {},
   "outputs": [],
   "source": [
    "def fitx(fit, y): \n",
    "    a = fit[0]\n",
    "    b = fit[1]\n",
    "    c = fit[2]\n",
    "    fitx = (a * (y **2)) + (b * y) + c\n",
    "    return fitx"
   ]
  },
  {
   "cell_type": "code",
   "execution_count": null,
   "metadata": {},
   "outputs": [],
   "source": [
    "def fit_poly(img, lefty, leftx, righty, rightx) :\n",
    "    left_fit = np.polyfit(lefty, leftx, 2)\n",
    "    right_fit = np.polyfit(righty, rightx, 2)\n",
    "    \n",
    "    left_fitx = fitx(left_fit, np.linspace(0, img.shape[0]-1, img.shape[0]))\n",
    "\n",
    "    right_fitx = fitx(right_fit, np.linspace(0, img.shape[0]-1, img.shape[0]))\n",
    "    \n",
    "    return left_fit, right_fit, left_fitx, right_fitx, y\n",
    "\n",
    "left_fit, right_fit, left_fitx, right_fitx, y = fit_poly(binary_boxes, lefty, leftx, righty, rightx)\n",
    "\n",
    "# Colors in the left and right lane regions\n",
    "binary_boxes[lefty, leftx] = [255, 0, 0]\n",
    "binary_boxes[righty, rightx] = [0, 0, 255]\n",
    "\n",
    "# Plots the left and right polynomials on the lane lines\n",
    "plt.imshow(binary_boxes)\n",
    "plt.plot(left_fitx, y, color='yellow')\n",
    "plt.plot(right_fitx, y, color='yellow')\n",
    "plt.show()\n",
    "\n"
   ]
  },
  {
   "cell_type": "markdown",
   "metadata": {},
   "source": [
    "# Detect next focus zone from polynomials"
   ]
  },
  {
   "cell_type": "code",
   "execution_count": null,
   "metadata": {},
   "outputs": [],
   "source": [
    "def search_around_poly(binary_warped, left_fit, right_fit ):\n",
    "    # HYPERPARAMETER\n",
    "    # Choose the width of the margin around the previous polynomial to search\n",
    "    # The quiz grader expects 100 here, but feel free to tune on your own!\n",
    "    margin = 100\n",
    "\n",
    "    # Grab activated pixels\n",
    "    nonzero = binary_warped.nonzero()\n",
    "    nonzeroy = np.array(nonzero[0])\n",
    "    nonzerox = np.array(nonzero[1])\n",
    "    \n",
    "    ### TO-DO: Set the area of search based on activated x-values ###\n",
    "    ### within the +/- margin of our polynomial function ###\n",
    "    ### Hint: consider the window areas for the similarly named variables ###\n",
    "    ### in the previous quiz, but change the windows to our new search area ###\n",
    "    left_lane_inds = ((nonzerox > (left_fit[0]*(nonzeroy**2) + left_fit[1]*nonzeroy + \n",
    "                    left_fit[2] - margin)) & (nonzerox < (left_fit[0]*(nonzeroy**2) + \n",
    "                    left_fit[1]*nonzeroy + left_fit[2] + margin)))\n",
    "    right_lane_inds = ((nonzerox > (right_fit[0]*(nonzeroy**2) + right_fit[1]*nonzeroy + \n",
    "                    right_fit[2] - margin)) & (nonzerox < (right_fit[0]*(nonzeroy**2) + \n",
    "                    right_fit[1]*nonzeroy + right_fit[2] + margin)))\n",
    "    \n",
    "    # Again, extract left and right line pixel positions\n",
    "    leftx = nonzerox[left_lane_inds]\n",
    "    lefty = nonzeroy[left_lane_inds] \n",
    "    rightx = nonzerox[right_lane_inds]\n",
    "    righty = nonzeroy[right_lane_inds]\n",
    "\n",
    "    # Fit new polynomials\n",
    "    left_fit, right_fit, left_fitx, right_fitx, y  = fit_poly(top_down, lefty, leftx, righty, rightx)\n",
    "    \n",
    "    ## Visualization ##\n",
    "    # Create an image to draw on and an image to show the selection window\n",
    "    out_img = np.dstack((binary_warped, binary_warped, binary_warped))*255\n",
    "    window_img = np.zeros_like(out_img)\n",
    "    # Color in left and right line pixels\n",
    "    out_img[nonzeroy[left_lane_inds], nonzerox[left_lane_inds]] = [255, 0, 0]\n",
    "    out_img[nonzeroy[right_lane_inds], nonzerox[right_lane_inds]] = [0, 0, 255]\n",
    "\n",
    "    # Generate a polygon to illustrate the search window area\n",
    "    # And recast the x and y points into usable format for cv2.fillPoly()\n",
    "    left_line_window1 = np.array([np.transpose(np.vstack([left_fitx-margin, y]))])\n",
    "    left_line_window2 = np.array([np.flipud(np.transpose(np.vstack([left_fitx+margin, \n",
    "                              y])))])\n",
    "    left_line_pts = np.hstack((left_line_window1, left_line_window2))\n",
    "    right_line_window1 = np.array([np.transpose(np.vstack([right_fitx-margin, y]))])\n",
    "    right_line_window2 = np.array([np.flipud(np.transpose(np.vstack([right_fitx+margin, \n",
    "                              y])))])\n",
    "    right_line_pts = np.hstack((right_line_window1, right_line_window2))\n",
    "\n",
    "    # Draw the lane onto the warped blank image\n",
    "    cv2.fillPoly(window_img, np.int_([left_line_pts]), (0,255, 0))\n",
    "    cv2.fillPoly(window_img, np.int_([right_line_pts]), (0,255, 0))\n",
    "    result = cv2.addWeighted(out_img, 1, window_img, 0.3, 0)\n",
    "    \n",
    "    # Plot the polynomial lines onto the image\n",
    "    plt.plot(left_fitx, y, color='yellow')\n",
    "    plt.plot(right_fitx, y, color='yellow')\n",
    "    ## End visualization steps ##\n",
    "    return left_fit, right_fit, left_fitx, right_fitx, y, result\n",
    "\n",
    "# Run image through the pipeline\n",
    "# Note that in your project, you'll also want to feed in the previous fits\n",
    "left_fit, right_fit, left_fitx, right_fitx, y, result = search_around_poly(top_down, left_fit, right_fit)\n",
    "\n",
    "# View your output\n",
    "plt.imshow(result)"
   ]
  },
  {
   "cell_type": "markdown",
   "metadata": {},
   "source": [
    "## Draw image"
   ]
  },
  {
   "cell_type": "code",
   "execution_count": null,
   "metadata": {},
   "outputs": [],
   "source": [
    "def draw_image(undist, warped_image, left_fitx, right_fitx, y, dst, src):\n",
    "    # Create an image to draw the lines on\n",
    "    warp_zero = np.zeros_like(warped_image).astype(np.uint8)\n",
    "    color_warp = np.dstack((warp_zero, warp_zero, warp_zero))\n",
    "\n",
    "    # Recast the x and y points into usable format for cv2.fillPoly()\n",
    "    pts_left = np.array([np.transpose(np.vstack([left_fitx, y]))])\n",
    "    pts_right = np.array([np.flipud(np.transpose(np.vstack([right_fitx, y])))])\n",
    "    pts = np.hstack((pts_left, pts_right))\n",
    "\n",
    "    # Draw the lane onto blank image\n",
    "    cv2.fillPoly(color_warp, np.int_([pts]), (0,255, 0))\n",
    "\n",
    "    # Inverted warp\n",
    "    Minv = cv2.getPerspectiveTransform(dst,src)\n",
    "    newwarp = cv2.warpPerspective(color_warp, Minv, (warped_image.shape[1], warped_image.shape[0])) \n",
    "    # Combine the result with the original image\n",
    "    result = cv2.addWeighted(undist, 1, newwarp, 0.3, 0)\n",
    "    return result\n",
    "    \n",
    "result = draw_image(undist, top_down, left_fitx, right_fitx, y, dst, src)\n",
    "plt.imshow(result)"
   ]
  },
  {
   "cell_type": "markdown",
   "metadata": {},
   "source": [
    "## Measuring lane size and curvature\n",
    "\n"
   ]
  },
  {
   "cell_type": "code",
   "execution_count": null,
   "metadata": {},
   "outputs": [],
   "source": [
    "def measure_curvature(y, left_fit, right_fit):\n",
    "    \n",
    "    # Define conversions in x and y from pixels space to meters\n",
    "    ym_per_pix = 30/720 # meters per pixel in y dimension\n",
    "    xm_per_pix = 3.7/700 # meters per pixel in x dimension\n",
    "    # Define y-value where we want radius of curvature\n",
    "    #We'll choose the maximum y-value, corresponding to the bottom of the image\n",
    "    y_eval = np.max(y)\n",
    "    \n",
    "    left_curverad = ((1 + (2 * left_fit[0] * y_eval * ym_per_pix + left_fit[1] )**2)**(3/2))/ abs(2 * left_fit[0])  ## Implement the calculation of the left line here\n",
    "    right_curverad = ((1 + (2 * right_fit[0] * y_eval * ym_per_pix + right_fit[1] )**2)**(3/2))/ abs(2 * right_fit[0])  ## Implement the calculation of the right line here\n",
    "    \n",
    "    return left_curverad, right_curverad\n",
    "\n",
    "\n",
    "# Calculate the radius of curvature in pixels for both lane lines\n",
    "left_curverad, right_curverad = measure_curvature_pixels(y, left_fit, right_fit)\n",
    "print(left_curverad, right_curverad)"
   ]
  },
  {
   "cell_type": "code",
   "execution_count": null,
   "metadata": {},
   "outputs": [],
   "source": [
    "def measure_distance(y, left_fit, right_fit):\n",
    "    low_leftx = fitx(left_fit, 0)\n",
    "    print(low_leftx)\n",
    "    print('lol')"
   ]
  },
  {
   "cell_type": "code",
   "execution_count": null,
   "metadata": {
    "scrolled": false
   },
   "outputs": [],
   "source": [
    "road_images = glob.glob('./test_images/test*.jpg')\n",
    "\n",
    "\n",
    "\n",
    "def lane_detection_pipeline(img):\n",
    "    \n",
    "    #define global variables\n",
    "    global left_fit\n",
    "    global right_fit\n",
    "    global left_fitx\n",
    "    global right_fitx\n",
    "    \n",
    "    undist = undistort_image(img, mtx, dist)\n",
    "    s_channel, gray = convert_image(undist)\n",
    "    color_binary, combined_binary = img_binary(gray, s_channel)\n",
    "    top_down, M, src, dst = corners_unwarp(combined_binary)\n",
    "    \n",
    "    \n",
    "    #check if we already calculated polynomial, if not, do so with boundings boxes, if yes, use it to create a tracking space\n",
    "    \n",
    "    try:\n",
    "        left_fit, right_fit, left_fitx, right_fitx, y, result = search_around_poly(top_down, left_fit, right_fit)\n",
    "        print(\"Polynomial found\")\n",
    "    except:\n",
    "        print(\"Polynomial NOT found\")\n",
    "        leftx, lefty, rightx, righty, binary_boxes = detect_lane_lines(top_down)\n",
    "        #if no line detect, dot not plot anything\n",
    "        if leftx != [] and lefty != [] and rightx != [] and righty != []:\n",
    "            left_fit, right_fit, left_fitx, right_fitx, y = fit_poly(binary_boxes, lefty, leftx, righty, rightx)\n",
    "        else :\n",
    "            return undist\n",
    "\n",
    "    result = draw_image(img, top_down, left_fitx, right_fitx, y, dst, src)\n",
    "    return result\n",
    "\n",
    "\n",
    "\"\"\"for image in road_images:\n",
    "    img = mpimg.imread(image)\n",
    "    result = lane_detection_pipeline(img)\n",
    "    plt.imshow(result)\n",
    "    plt.show()\"\"\"\n",
    "\n",
    "\n",
    "    "
   ]
  },
  {
   "cell_type": "code",
   "execution_count": null,
   "metadata": {},
   "outputs": [],
   "source": [
    "# Import everything needed to edit/save/watch video clips\n",
    "from moviepy.editor import VideoFileClip\n",
    "from IPython.display import HTML\n",
    "\n",
    "rightline = Line()\n",
    "leftline = Lines()\n",
    "white_output = './output_project_video.mp4'\n",
    "## To speed up the testing process you may want to try your pipeline on a shorter subclip of the video\n",
    "## To do so add .subclip(start_second,end_second) to the end of the line below\n",
    "## Where start_second and end_second are integer values representing the start and end of the subclip\n",
    "## You may also uncomment the following line for a subclip of the first 5 seconds\n",
    "##clip1 = VideoFileClip(\"test_videos/solidWhiteRight.mp4\").subclip(0,5)\n",
    "clip1 = VideoFileClip(\"./project_video.mp4\")\n",
    "white_clip = clip1.fl_image(lane_detection_pipeline) #NOTE: this function expects color images!!\n",
    "%time white_clip.write_videofile(white_output, audio=False)"
   ]
  },
  {
   "cell_type": "code",
   "execution_count": null,
   "metadata": {},
   "outputs": [],
   "source": [
    "rightline = Line()\n",
    "leftline = Lines()\n",
    "\n",
    "white_output = './output_challenge_video.mp4'\n",
    "## To speed up the testing process you may want to try your pipeline on a shorter subclip of the video\n",
    "## To do so add .subclip(start_second,end_second) to the end of the line below\n",
    "## Where start_second and end_second are integer values representing the start and end of the subclip\n",
    "## You may also uncomment the following line for a subclip of the first 5 seconds\n",
    "##clip1 = VideoFileClip(\"test_videos/solidWhiteRight.mp4\").subclip(0,5)\n",
    "clip1 = VideoFileClip(\"./challenge_video.mp4\")\n",
    "white_clip = clip1.fl_image(lane_detection_pipeline) #NOTE: this function expects color images!!\n",
    "%time white_clip.write_videofile(white_output, audio=False)"
   ]
  },
  {
   "cell_type": "code",
   "execution_count": null,
   "metadata": {},
   "outputs": [],
   "source": [
    "rightline = Line()\n",
    "leftline = Lines()\n",
    "\n",
    "white_output = './output_harder_challenge_video.mp4'\n",
    "## To speed up the testing process you may want to try your pipeline on a shorter subclip of the video\n",
    "## To do so add .subclip(start_second,end_second) to the end of the line below\n",
    "## Where start_second and end_second are integer values representing the start and end of the subclip\n",
    "## You may also uncomment the following line for a subclip of the first 5 seconds\n",
    "##clip1 = VideoFileClip(\"test_videos/solidWhiteRight.mp4\").subclip(0,5)\n",
    "clip1 = VideoFileClip(\"./harder_challenge_video.mp4\")\n",
    "white_clip = clip1.fl_image(lane_detection_pipeline) #NOTE: this function expects color images!!\n",
    "%time white_clip.write_videofile(white_output, audio=False)"
   ]
  },
  {
   "cell_type": "code",
   "execution_count": null,
   "metadata": {},
   "outputs": [],
   "source": [
    "def lane_detection_pipeline(img):\n",
    "    \n",
    "    #define global variables\n",
    "    global left_fit\n",
    "    global right_fit\n",
    "    global left_fitx\n",
    "    global right_fitx\n",
    "    \n",
    "    undist = undistort_image(img, mtx, dist)\n",
    "    s_channel, gray = convert_image(undist)\n",
    "    color_binary, combined_binary = img_binary(gray, s_channel)\n",
    "    top_down, M, src, dst = corners_unwarp(combined_binary)\n",
    "    \n",
    "    \n",
    "    #check if we already calculated polynomial, if not, do so with boundings boxes, if yes, use it to create a tracking space\n",
    "    \n",
    "    try:\n",
    "        left_fit, right_fit, left_fitx, right_fitx, y, result = search_around_poly(top_down, left_fit, right_fit)\n",
    "        print(\"Polynomial found\")\n",
    "    except:\n",
    "        print(\"Polynomial NOT found\")\n",
    "        leftx, lefty, rightx, righty, binary_boxes = detect_lane_lines(top_down)\n",
    "        #if no line detect, dot not plot anything\n",
    "        if leftx != [] and lefty != [] and rightx != [] and righty != []:\n",
    "            left_fit, right_fit, left_fitx, right_fitx, y = fit_poly(binary_boxes, lefty, leftx, righty, rightx)\n",
    "        else :\n",
    "            return undist\n",
    "\n",
    "    result = draw_image(img, top_down, left_fitx, right_fitx, y, dst, src)\n",
    "    return result"
   ]
  },
  {
   "cell_type": "code",
   "execution_count": null,
   "metadata": {},
   "outputs": [],
   "source": [
    "def lane_detection_pipeline(img):\n",
    "    undist = undistort_image(img, mtx, dist)\n",
    "    s_channel, gray = convert_image(undist)\n",
    "    color_binary, combined_binary = img_binary(gray, s_channel)\n",
    "    top_down, M, src, dst = corners_unwarp(combined_binary)\n",
    "    \n",
    "    if rightline.detected = False :\n",
    "        print(\"Polynomial NOT found\")\n",
    "        leftline.allx, leftline.ally, leftline.allx, leftline.ally, binary_boxes = detect_lane_lines(top_down)\n",
    "        #if no line detect, dot not plot anything\n",
    "        if leftline.detected = False and leftline.detected = True\n",
    "            left_fit, right_fit, left_fitx, right_fitx, y = fit_poly(binary_boxes, lefty, leftx, righty, rightx)\n",
    "        else :\n",
    "            return undist\n",
    "    else :\n",
    "        left_fit, right_fit, left_fitx, right_fitx, y, result = search_around_poly(top_down, left_fit, right_fit)\n",
    "        "
   ]
  }
 ],
 "metadata": {
  "kernelspec": {
   "display_name": "Python 3",
   "language": "python",
   "name": "python3"
  },
  "language_info": {
   "codemirror_mode": {
    "name": "ipython",
    "version": 3
   },
   "file_extension": ".py",
   "mimetype": "text/x-python",
   "name": "python",
   "nbconvert_exporter": "python",
   "pygments_lexer": "ipython3",
   "version": "3.6.3"
  }
 },
 "nbformat": 4,
 "nbformat_minor": 2
}
